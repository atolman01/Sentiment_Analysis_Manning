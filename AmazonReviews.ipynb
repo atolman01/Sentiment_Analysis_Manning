{
  "nbformat": 4,
  "nbformat_minor": 0,
  "metadata": {
    "colab": {
      "name": "AmazonReviews.ipynb",
      "provenance": [],
      "collapsed_sections": [],
      "authorship_tag": "ABX9TyMilY/H6tH7C1DkC41mUo7T",
      "include_colab_link": true
    },
    "kernelspec": {
      "name": "python3",
      "display_name": "Python 3"
    }
  },
  "cells": [
    {
      "cell_type": "markdown",
      "metadata": {
        "id": "view-in-github",
        "colab_type": "text"
      },
      "source": [
        "<a href=\"https://colab.research.google.com/github/atolman01/Sentiment_Analysis_Manning/blob/main/AmazonReviews.ipynb\" target=\"_parent\"><img src=\"https://colab.research.google.com/assets/colab-badge.svg\" alt=\"Open In Colab\"/></a>"
      ]
    },
    {
      "cell_type": "code",
      "metadata": {
        "id": "W8AeQGZGKSGP",
        "colab": {
          "base_uri": "https://localhost:8080/",
          "height": 34
        },
        "outputId": "d88eb106-5e67-46f4-cd86-ad6a44cd7755"
      },
      "source": [
        "from google.colab import drive\n",
        "drive.mount(\"/content/drive\")"
      ],
      "execution_count": null,
      "outputs": [
        {
          "output_type": "stream",
          "text": [
            "Drive already mounted at /content/drive; to attempt to forcibly remount, call drive.mount(\"/content/drive\", force_remount=True).\n"
          ],
          "name": "stdout"
        }
      ]
    },
    {
      "cell_type": "code",
      "metadata": {
        "id": "8Q6F1xYgXK1n",
        "colab": {
          "base_uri": "https://localhost:8080/",
          "height": 34
        },
        "outputId": "f2640ae9-db02-423c-a499-851e174f8215"
      },
      "source": [
        "!ls"
      ],
      "execution_count": null,
      "outputs": [
        {
          "output_type": "stream",
          "text": [
            "drive  sample_data\n"
          ],
          "name": "stdout"
        }
      ]
    },
    {
      "cell_type": "markdown",
      "metadata": {
        "id": "BCVwPLQGLnlq"
      },
      "source": [
        "Install ndjson with :\n",
        "`!pip install ndjson`\n",
        "\n",
        "To open and read a file with this format:                                      \n",
        "`with open('/content/drive/My Drive/location_of_file','r or w') as read:`\n",
        "  `data = ndjson.reader(read)`\n",
        "\n",
        "To show all content of file:\n",
        "  `for post in read:`\n",
        "    `print(post)`\n",
        "\n",
        "  "
      ]
    },
    {
      "cell_type": "code",
      "metadata": {
        "id": "0tEod8VEXz8j",
        "colab": {
          "base_uri": "https://localhost:8080/",
          "height": 652
        },
        "outputId": "667d3232-a8c5-4609-b835-77d0a041fa40"
      },
      "source": [
        "!pip install ndjson     #Do this because Colab does not have ndjson installed\n",
        "import ndjson\n",
        "import pandas as pd\n",
        "import matplotlib.pyplot as plt\n",
        "import numpy as np\n",
        "\n",
        "\n",
        "\n",
        "with open ('/content/drive/My Drive/NLP Python/Data/Video_Games_5.json','r') as read_file:     \n",
        "  data = ndjson.reader(read_file)\n",
        "  \n",
        "  reviews = pd.DataFrame(data)\n",
        "  print(reviews.head(2))\n",
        "  print(reviews.overall)\n",
        "\n",
        "  xbins = [1,2,3,4,5]                                   #Number of ratings - 5\n",
        "  #ybins = [25000,50000,75000,100000,125000,150000,175000,200000,225000,250000,275000,300000,325000,350000,375000,400000]\n",
        "  plt.hist(reviews.overall,bins=xbins, color='#abcdef')   #Create a histogram, using the overall review rating, set the bins attribute to the bins array\n",
        "  plt.xticks(xbins)                                     #Make the X-ticks match the xbins \n",
        "  #plt.yticks(ybins)                                     #Make the Y-ticks match the ybins\n",
        "\n",
        "  plt.title('Distribution of Amazon Customer Reviews')\n",
        "  plt.ylabel('Number of Amazon Customer reviews')\n",
        "  plt.xlabel('Rating')\n",
        "\n",
        "  \n",
        "  plt.show()                          #show the plot\n",
        "  "
      ],
      "execution_count": null,
      "outputs": [
        {
          "output_type": "stream",
          "text": [
            "Collecting ndjson\n",
            "  Downloading https://files.pythonhosted.org/packages/70/c9/04ba0056011ba96a58163ebfd666d8385300bd12da1afe661a5a147758d7/ndjson-0.3.1-py2.py3-none-any.whl\n",
            "Installing collected packages: ndjson\n",
            "Successfully installed ndjson-0.3.1\n",
            "   overall  verified   reviewTime  ... vote style image\n",
            "0      5.0      True  10 17, 2015  ...  NaN   NaN   NaN\n",
            "1      4.0     False  07 27, 2015  ...  NaN   NaN   NaN\n",
            "\n",
            "[2 rows x 12 columns]\n",
            "0         5.0\n",
            "1         4.0\n",
            "2         3.0\n",
            "3         2.0\n",
            "4         5.0\n",
            "         ... \n",
            "497572    4.0\n",
            "497573    3.0\n",
            "497574    3.0\n",
            "497575    4.0\n",
            "497576    2.0\n",
            "Name: overall, Length: 497577, dtype: float64\n"
          ],
          "name": "stdout"
        },
        {
          "output_type": "display_data",
          "data": {
            "image/png": "[encoded data removed]",
            "text/plain": [
              "<Figure size 432x288 with 1 Axes>"
            ]
          },
          "metadata": {
            "tags": [],
            "needs_background": "light"
          }
        }
      ]
    },
    {
      "cell_type": "code",
      "metadata": {
        "id": "XZZmif4vmWLk",
        "colab": {
          "base_uri": "https://localhost:8080/",
          "height": 136
        },
        "outputId": "f1c10ae1-d410-483d-f73a-24713f9d4bdf"
      },
      "source": [
        "reviews.groupby('overall').size()"
      ],
      "execution_count": null,
      "outputs": [
        {
          "output_type": "execute_result",
          "data": {
            "text/plain": [
              "overall\n",
              "1.0     30883\n",
              "2.0     24135\n",
              "3.0     49146\n",
              "4.0     93654\n",
              "5.0    299759\n",
              "dtype: int64"
            ]
          },
          "metadata": {
            "tags": []
          },
          "execution_count": 4
        }
      ]
    },
    {
      "cell_type": "code",
      "metadata": {
        "id": "XThGdmOdqTG1",
        "colab": {
          "base_uri": "https://localhost:8080/",
          "height": 204
        },
        "outputId": "9417f36f-3f51-4673-cf83-cbcba0b246c2"
      },
      "source": [
        "ratings = reviews[['overall', 'reviewText']]\n",
        "\n",
        "rc1 = ratings.where((ratings.overall==1.0)).dropna()\n",
        "rc1 = rc1.sample(n=1500,random_state=42)\n",
        "rc1.reset_index(drop=True, inplace=True)\n",
        "rc1.head()"
      ],
      "execution_count": null,
      "outputs": [
        {
          "output_type": "execute_result",
          "data": {
            "text/html": [
              "<div>\n",
              "<style scoped>\n",
              "    .dataframe tbody tr th:only-of-type {\n",
              "        vertical-align: middle;\n",
              "    }\n",
              "\n",
              "    .dataframe tbody tr th {\n",
              "        vertical-align: top;\n",
              "    }\n",
              "\n",
              "    .dataframe thead th {\n",
              "        text-align: right;\n",
              "    }\n",
              "</style>\n",
              "<table border=\"1\" class=\"dataframe\">\n",
              "  <thead>\n",
              "    <tr style=\"text-align: right;\">\n",
              "      <th></th>\n",
              "      <th>overall</th>\n",
              "      <th>reviewText</th>\n",
              "    </tr>\n",
              "  </thead>\n",
              "  <tbody>\n",
              "    <tr>\n",
              "      <th>0</th>\n",
              "      <td>1.0</td>\n",
              "      <td>Made in china... either a single bad luck of t...</td>\n",
              "    </tr>\n",
              "    <tr>\n",
              "      <th>1</th>\n",
              "      <td>1.0</td>\n",
              "      <td>Having played all of the other games, I was so...</td>\n",
              "    </tr>\n",
              "    <tr>\n",
              "      <th>2</th>\n",
              "      <td>1.0</td>\n",
              "      <td>Macro buttons in the way (obviously?), can't l...</td>\n",
              "    </tr>\n",
              "    <tr>\n",
              "      <th>3</th>\n",
              "      <td>1.0</td>\n",
              "      <td>Just received my \"Cronusmax Plus\" and after so...</td>\n",
              "    </tr>\n",
              "    <tr>\n",
              "      <th>4</th>\n",
              "      <td>1.0</td>\n",
              "      <td>Not worth the learning curve, the nunchuck+wii...</td>\n",
              "    </tr>\n",
              "  </tbody>\n",
              "</table>\n",
              "</div>"
            ],
            "text/plain": [
              "   overall                                         reviewText\n",
              "0      1.0  Made in china... either a single bad luck of t...\n",
              "1      1.0  Having played all of the other games, I was so...\n",
              "2      1.0  Macro buttons in the way (obviously?), can't l...\n",
              "3      1.0  Just received my \"Cronusmax Plus\" and after so...\n",
              "4      1.0  Not worth the learning curve, the nunchuck+wii..."
            ]
          },
          "metadata": {
            "tags": []
          },
          "execution_count": 5
        }
      ]
    },
    {
      "cell_type": "code",
      "metadata": {
        "id": "vvlaSJ6xqinw",
        "colab": {
          "base_uri": "https://localhost:8080/",
          "height": 204
        },
        "outputId": "0251a7cd-117e-433c-f9ab-43150becf6e1"
      },
      "source": [
        "rc2 = ratings.where((ratings.overall==2.0)).dropna()\n",
        "rc2 = rc2.sample(n=500,random_state=42)\n",
        "rc2.reset_index(drop=True, inplace=True)\n",
        "rc2.head()"
      ],
      "execution_count": null,
      "outputs": [
        {
          "output_type": "execute_result",
          "data": {
            "text/html": [
              "<div>\n",
              "<style scoped>\n",
              "    .dataframe tbody tr th:only-of-type {\n",
              "        vertical-align: middle;\n",
              "    }\n",
              "\n",
              "    .dataframe tbody tr th {\n",
              "        vertical-align: top;\n",
              "    }\n",
              "\n",
              "    .dataframe thead th {\n",
              "        text-align: right;\n",
              "    }\n",
              "</style>\n",
              "<table border=\"1\" class=\"dataframe\">\n",
              "  <thead>\n",
              "    <tr style=\"text-align: right;\">\n",
              "      <th></th>\n",
              "      <th>overall</th>\n",
              "      <th>reviewText</th>\n",
              "    </tr>\n",
              "  </thead>\n",
              "  <tbody>\n",
              "    <tr>\n",
              "      <th>0</th>\n",
              "      <td>2.0</td>\n",
              "      <td>I haven't gotten past the first level because ...</td>\n",
              "    </tr>\n",
              "    <tr>\n",
              "      <th>1</th>\n",
              "      <td>2.0</td>\n",
              "      <td>This game is pretty bad, I used to be an MK fa...</td>\n",
              "    </tr>\n",
              "    <tr>\n",
              "      <th>2</th>\n",
              "      <td>2.0</td>\n",
              "      <td>Wasn't the right memory card needs to tell sho...</td>\n",
              "    </tr>\n",
              "    <tr>\n",
              "      <th>3</th>\n",
              "      <td>2.0</td>\n",
              "      <td>I honestly do not like cheat devices, but sinc...</td>\n",
              "    </tr>\n",
              "    <tr>\n",
              "      <th>4</th>\n",
              "      <td>2.0</td>\n",
              "      <td>too fast, not a real castlevania game. More li...</td>\n",
              "    </tr>\n",
              "  </tbody>\n",
              "</table>\n",
              "</div>"
            ],
            "text/plain": [
              "   overall                                         reviewText\n",
              "0      2.0  I haven't gotten past the first level because ...\n",
              "1      2.0  This game is pretty bad, I used to be an MK fa...\n",
              "2      2.0  Wasn't the right memory card needs to tell sho...\n",
              "3      2.0  I honestly do not like cheat devices, but sinc...\n",
              "4      2.0  too fast, not a real castlevania game. More li..."
            ]
          },
          "metadata": {
            "tags": []
          },
          "execution_count": 6
        }
      ]
    },
    {
      "cell_type": "code",
      "metadata": {
        "id": "RzOE-94yqrqK",
        "colab": {
          "base_uri": "https://localhost:8080/",
          "height": 204
        },
        "outputId": "dcdc9847-e4d9-43b3-e423-1daafed8efc8"
      },
      "source": [
        "\n",
        "rc3 = ratings.where((ratings.overall==3.0)).dropna()\n",
        "rc3 = rc3.sample(n=500,random_state=42)\n",
        "rc3.reset_index(drop=True, inplace=True)\n",
        "rc3.head()"
      ],
      "execution_count": null,
      "outputs": [
        {
          "output_type": "execute_result",
          "data": {
            "text/html": [
              "<div>\n",
              "<style scoped>\n",
              "    .dataframe tbody tr th:only-of-type {\n",
              "        vertical-align: middle;\n",
              "    }\n",
              "\n",
              "    .dataframe tbody tr th {\n",
              "        vertical-align: top;\n",
              "    }\n",
              "\n",
              "    .dataframe thead th {\n",
              "        text-align: right;\n",
              "    }\n",
              "</style>\n",
              "<table border=\"1\" class=\"dataframe\">\n",
              "  <thead>\n",
              "    <tr style=\"text-align: right;\">\n",
              "      <th></th>\n",
              "      <th>overall</th>\n",
              "      <th>reviewText</th>\n",
              "    </tr>\n",
              "  </thead>\n",
              "  <tbody>\n",
              "    <tr>\n",
              "      <th>0</th>\n",
              "      <td>3.0</td>\n",
              "      <td>I am a bit conflicted with this controller...\\...</td>\n",
              "    </tr>\n",
              "    <tr>\n",
              "      <th>1</th>\n",
              "      <td>3.0</td>\n",
              "      <td>Some of the games are so convoluted and \"busy\"...</td>\n",
              "    </tr>\n",
              "    <tr>\n",
              "      <th>2</th>\n",
              "      <td>3.0</td>\n",
              "      <td>I'll make this review quick. The 360 has great...</td>\n",
              "    </tr>\n",
              "    <tr>\n",
              "      <th>3</th>\n",
              "      <td>3.0</td>\n",
              "      <td>At launch, this game was awful. Origin sucked,...</td>\n",
              "    </tr>\n",
              "    <tr>\n",
              "      <th>4</th>\n",
              "      <td>3.0</td>\n",
              "      <td>Breakthrough is an expansion pack to Medal of ...</td>\n",
              "    </tr>\n",
              "  </tbody>\n",
              "</table>\n",
              "</div>"
            ],
            "text/plain": [
              "   overall                                         reviewText\n",
              "0      3.0  I am a bit conflicted with this controller...\\...\n",
              "1      3.0  Some of the games are so convoluted and \"busy\"...\n",
              "2      3.0  I'll make this review quick. The 360 has great...\n",
              "3      3.0  At launch, this game was awful. Origin sucked,...\n",
              "4      3.0  Breakthrough is an expansion pack to Medal of ..."
            ]
          },
          "metadata": {
            "tags": []
          },
          "execution_count": 7
        }
      ]
    },
    {
      "cell_type": "code",
      "metadata": {
        "id": "ZsJeFsPVq1B_",
        "colab": {
          "base_uri": "https://localhost:8080/",
          "height": 204
        },
        "outputId": "20e658d4-9dc9-4b7a-d670-c545d0a6a48f"
      },
      "source": [
        "rc4 = ratings.where((ratings.overall==4.0)).dropna()     #.dropna() removes all null and NaN rows/columns in DataFrame\n",
        "rc4 = rc4.sample(n=500,random_state=42)                  #n : number of random samples                          random_state: \n",
        "rc4.reset_index(drop=True, inplace=True)                 #drop : adds replaced index column to data if false    inplace: makes changes to the orignal dataframe itself if true\n",
        "rc4.head()"
      ],
      "execution_count": null,
      "outputs": [
        {
          "output_type": "execute_result",
          "data": {
            "text/html": [
              "<div>\n",
              "<style scoped>\n",
              "    .dataframe tbody tr th:only-of-type {\n",
              "        vertical-align: middle;\n",
              "    }\n",
              "\n",
              "    .dataframe tbody tr th {\n",
              "        vertical-align: top;\n",
              "    }\n",
              "\n",
              "    .dataframe thead th {\n",
              "        text-align: right;\n",
              "    }\n",
              "</style>\n",
              "<table border=\"1\" class=\"dataframe\">\n",
              "  <thead>\n",
              "    <tr style=\"text-align: right;\">\n",
              "      <th></th>\n",
              "      <th>overall</th>\n",
              "      <th>reviewText</th>\n",
              "    </tr>\n",
              "  </thead>\n",
              "  <tbody>\n",
              "    <tr>\n",
              "      <th>0</th>\n",
              "      <td>4.0</td>\n",
              "      <td>While I've been favoring RTS's, simulations an...</td>\n",
              "    </tr>\n",
              "    <tr>\n",
              "      <th>1</th>\n",
              "      <td>4.0</td>\n",
              "      <td>We bought this wheel so the kids could play Dr...</td>\n",
              "    </tr>\n",
              "    <tr>\n",
              "      <th>2</th>\n",
              "      <td>4.0</td>\n",
              "      <td>Still waiting for more game modes and the opti...</td>\n",
              "    </tr>\n",
              "    <tr>\n",
              "      <th>3</th>\n",
              "      <td>4.0</td>\n",
              "      <td>Overall this is a really good game. It is an a...</td>\n",
              "    </tr>\n",
              "    <tr>\n",
              "      <th>4</th>\n",
              "      <td>4.0</td>\n",
              "      <td>I was very skeptical about this game. However ...</td>\n",
              "    </tr>\n",
              "  </tbody>\n",
              "</table>\n",
              "</div>"
            ],
            "text/plain": [
              "   overall                                         reviewText\n",
              "0      4.0  While I've been favoring RTS's, simulations an...\n",
              "1      4.0  We bought this wheel so the kids could play Dr...\n",
              "2      4.0  Still waiting for more game modes and the opti...\n",
              "3      4.0  Overall this is a really good game. It is an a...\n",
              "4      4.0  I was very skeptical about this game. However ..."
            ]
          },
          "metadata": {
            "tags": []
          },
          "execution_count": 8
        }
      ]
    },
    {
      "cell_type": "code",
      "metadata": {
        "id": "fb3lWhsDVbh0",
        "colab": {
          "base_uri": "https://localhost:8080/",
          "height": 204
        },
        "outputId": "409fb1e0-1d19-476d-8886-93fe400fe61f"
      },
      "source": [
        "rc5 = ratings.where((ratings.overall==5.0)).dropna()    #.dropna() removes all null and NaN rows/columns in DataFrame\n",
        "rc5 = rc5.sample(n=1500,random_state=42)\n",
        "rc5.reset_index(drop=True, inplace=True)\n",
        "rc5.head()\n"
      ],
      "execution_count": null,
      "outputs": [
        {
          "output_type": "execute_result",
          "data": {
            "text/html": [
              "<div>\n",
              "<style scoped>\n",
              "    .dataframe tbody tr th:only-of-type {\n",
              "        vertical-align: middle;\n",
              "    }\n",
              "\n",
              "    .dataframe tbody tr th {\n",
              "        vertical-align: top;\n",
              "    }\n",
              "\n",
              "    .dataframe thead th {\n",
              "        text-align: right;\n",
              "    }\n",
              "</style>\n",
              "<table border=\"1\" class=\"dataframe\">\n",
              "  <thead>\n",
              "    <tr style=\"text-align: right;\">\n",
              "      <th></th>\n",
              "      <th>overall</th>\n",
              "      <th>reviewText</th>\n",
              "    </tr>\n",
              "  </thead>\n",
              "  <tbody>\n",
              "    <tr>\n",
              "      <th>0</th>\n",
              "      <td>5.0</td>\n",
              "      <td>Excellent</td>\n",
              "    </tr>\n",
              "    <tr>\n",
              "      <th>1</th>\n",
              "      <td>5.0</td>\n",
              "      <td>Whether it'd be for the Xbox or the Playstatio...</td>\n",
              "    </tr>\n",
              "    <tr>\n",
              "      <th>2</th>\n",
              "      <td>5.0</td>\n",
              "      <td>This game link cable, in my opinion, is MUCH b...</td>\n",
              "    </tr>\n",
              "    <tr>\n",
              "      <th>3</th>\n",
              "      <td>5.0</td>\n",
              "      <td>I can't rate this game highly enough. It has v...</td>\n",
              "    </tr>\n",
              "    <tr>\n",
              "      <th>4</th>\n",
              "      <td>5.0</td>\n",
              "      <td>This game has a massive world to roam around i...</td>\n",
              "    </tr>\n",
              "  </tbody>\n",
              "</table>\n",
              "</div>"
            ],
            "text/plain": [
              "   overall                                         reviewText\n",
              "0      5.0                                          Excellent\n",
              "1      5.0  Whether it'd be for the Xbox or the Playstatio...\n",
              "2      5.0  This game link cable, in my opinion, is MUCH b...\n",
              "3      5.0  I can't rate this game highly enough. It has v...\n",
              "4      5.0  This game has a massive world to roam around i..."
            ]
          },
          "metadata": {
            "tags": []
          },
          "execution_count": 9
        }
      ]
    },
    {
      "cell_type": "code",
      "metadata": {
        "id": "QHP9eOTerqSg",
        "colab": {
          "base_uri": "https://localhost:8080/",
          "height": 119
        },
        "outputId": "9b50b072-4be8-4ebe-a621-5232eeec62ca"
      },
      "source": [
        "reviews2to4 = pd.concat([rc2,rc3,rc4], sort=False)      #concat reviews from 2 - 4 into one dataframe\n",
        "reviews2to4.reset_index(inplace=True, drop=True)\n",
        "reviews2to4.head(), reviews2to4.shape"
      ],
      "execution_count": null,
      "outputs": [
        {
          "output_type": "execute_result",
          "data": {
            "text/plain": [
              "(   overall                                         reviewText\n",
              " 0      2.0  I haven't gotten past the first level because ...\n",
              " 1      2.0  This game is pretty bad, I used to be an MK fa...\n",
              " 2      2.0  Wasn't the right memory card needs to tell sho...\n",
              " 3      2.0  I honestly do not like cheat devices, but sinc...\n",
              " 4      2.0  too fast, not a real castlevania game. More li..., (1500, 2))"
            ]
          },
          "metadata": {
            "tags": []
          },
          "execution_count": 10
        }
      ]
    },
    {
      "cell_type": "code",
      "metadata": {
        "id": "Ja2lKY1jsH9f",
        "colab": {
          "base_uri": "https://localhost:8080/",
          "height": 119
        },
        "outputId": "da55be6b-03ba-4d1f-c74b-f4086d1deb95"
      },
      "source": [
        "scReviews = pd.concat([reviews2to4, rc1, rc5], sort=False)    #concat all reviews from 1 - 5 in one dataframe\n",
        "scReviews.reset_index(inplace=True, drop=True)\n",
        "scReviews.head(), scReviews.shape"
      ],
      "execution_count": null,
      "outputs": [
        {
          "output_type": "execute_result",
          "data": {
            "text/plain": [
              "(   overall                                         reviewText\n",
              " 0      2.0  I haven't gotten past the first level because ...\n",
              " 1      2.0  This game is pretty bad, I used to be an MK fa...\n",
              " 2      2.0  Wasn't the right memory card needs to tell sho...\n",
              " 3      2.0  I honestly do not like cheat devices, but sinc...\n",
              " 4      2.0  too fast, not a real castlevania game. More li..., (4500, 2))"
            ]
          },
          "metadata": {
            "tags": []
          },
          "execution_count": 11
        }
      ]
    },
    {
      "cell_type": "code",
      "metadata": {
        "id": "6SDgJlO9tNA6",
        "colab": {
          "base_uri": "https://localhost:8080/",
          "height": 204
        },
        "outputId": "1a32f535-9cd4-43ae-f7b1-3aca69b0c559"
      },
      "source": [
        "scReviews = scReviews.sort_values('overall')     #sort reviews from 1 - 5\n",
        "scReviews.reset_index(drop=True,inplace=True)    #reset indexes\n",
        "scReviews = scReviews.rename(columns = {'overall':'ratings','reviewText':'reviews'})    #rename columns\n",
        "scReviews.head()"
      ],
      "execution_count": null,
      "outputs": [
        {
          "output_type": "execute_result",
          "data": {
            "text/html": [
              "<div>\n",
              "<style scoped>\n",
              "    .dataframe tbody tr th:only-of-type {\n",
              "        vertical-align: middle;\n",
              "    }\n",
              "\n",
              "    .dataframe tbody tr th {\n",
              "        vertical-align: top;\n",
              "    }\n",
              "\n",
              "    .dataframe thead th {\n",
              "        text-align: right;\n",
              "    }\n",
              "</style>\n",
              "<table border=\"1\" class=\"dataframe\">\n",
              "  <thead>\n",
              "    <tr style=\"text-align: right;\">\n",
              "      <th></th>\n",
              "      <th>ratings</th>\n",
              "      <th>reviews</th>\n",
              "    </tr>\n",
              "  </thead>\n",
              "  <tbody>\n",
              "    <tr>\n",
              "      <th>0</th>\n",
              "      <td>1.0</td>\n",
              "      <td>At first glance, this Sega Classics Collection...</td>\n",
              "    </tr>\n",
              "    <tr>\n",
              "      <th>1</th>\n",
              "      <td>1.0</td>\n",
              "      <td>Stopped working after a week. You get what you...</td>\n",
              "    </tr>\n",
              "    <tr>\n",
              "      <th>2</th>\n",
              "      <td>1.0</td>\n",
              "      <td>Cheap deaths, horrible camera, and no knowledg...</td>\n",
              "    </tr>\n",
              "    <tr>\n",
              "      <th>3</th>\n",
              "      <td>1.0</td>\n",
              "      <td>O.K.  I will keep it short and sweet.  I thoug...</td>\n",
              "    </tr>\n",
              "    <tr>\n",
              "      <th>4</th>\n",
              "      <td>1.0</td>\n",
              "      <td>this Adapter would have been just fine....if i...</td>\n",
              "    </tr>\n",
              "  </tbody>\n",
              "</table>\n",
              "</div>"
            ],
            "text/plain": [
              "   ratings                                            reviews\n",
              "0      1.0  At first glance, this Sega Classics Collection...\n",
              "1      1.0  Stopped working after a week. You get what you...\n",
              "2      1.0  Cheap deaths, horrible camera, and no knowledg...\n",
              "3      1.0  O.K.  I will keep it short and sweet.  I thoug...\n",
              "4      1.0  this Adapter would have been just fine....if i..."
            ]
          },
          "metadata": {
            "tags": []
          },
          "execution_count": 12
        }
      ]
    },
    {
      "cell_type": "code",
      "metadata": {
        "id": "bpG-kp_qte2_",
        "colab": {
          "base_uri": "https://localhost:8080/",
          "height": 204
        },
        "outputId": "fed0dd55-302d-4009-e59f-78a5c524ca24"
      },
      "source": [
        "scReviews.tail()"
      ],
      "execution_count": null,
      "outputs": [
        {
          "output_type": "execute_result",
          "data": {
            "text/html": [
              "<div>\n",
              "<style scoped>\n",
              "    .dataframe tbody tr th:only-of-type {\n",
              "        vertical-align: middle;\n",
              "    }\n",
              "\n",
              "    .dataframe tbody tr th {\n",
              "        vertical-align: top;\n",
              "    }\n",
              "\n",
              "    .dataframe thead th {\n",
              "        text-align: right;\n",
              "    }\n",
              "</style>\n",
              "<table border=\"1\" class=\"dataframe\">\n",
              "  <thead>\n",
              "    <tr style=\"text-align: right;\">\n",
              "      <th></th>\n",
              "      <th>ratings</th>\n",
              "      <th>reviews</th>\n",
              "    </tr>\n",
              "  </thead>\n",
              "  <tbody>\n",
              "    <tr>\n",
              "      <th>4495</th>\n",
              "      <td>5.0</td>\n",
              "      <td>I love this game so much that I wanted to live...</td>\n",
              "    </tr>\n",
              "    <tr>\n",
              "      <th>4496</th>\n",
              "      <td>5.0</td>\n",
              "      <td>this is a great game</td>\n",
              "    </tr>\n",
              "    <tr>\n",
              "      <th>4497</th>\n",
              "      <td>5.0</td>\n",
              "      <td>I love shooters where you're not some green ar...</td>\n",
              "    </tr>\n",
              "    <tr>\n",
              "      <th>4498</th>\n",
              "      <td>5.0</td>\n",
              "      <td>LBP is a fun platformer that even my wife can'...</td>\n",
              "    </tr>\n",
              "    <tr>\n",
              "      <th>4499</th>\n",
              "      <td>5.0</td>\n",
              "      <td>It is a blast.\\nKind of repetitive after like ...</td>\n",
              "    </tr>\n",
              "  </tbody>\n",
              "</table>\n",
              "</div>"
            ],
            "text/plain": [
              "      ratings                                            reviews\n",
              "4495      5.0  I love this game so much that I wanted to live...\n",
              "4496      5.0                               this is a great game\n",
              "4497      5.0  I love shooters where you're not some green ar...\n",
              "4498      5.0  LBP is a fun platformer that even my wife can'...\n",
              "4499      5.0  It is a blast.\\nKind of repetitive after like ..."
            ]
          },
          "metadata": {
            "tags": []
          },
          "execution_count": 13
        }
      ]
    },
    {
      "cell_type": "code",
      "metadata": {
        "id": "0ILOIstqwE0J",
        "colab": {
          "base_uri": "https://localhost:8080/",
          "height": 204
        },
        "outputId": "75397648-9583-40c7-ce77-ca6b1ba63014"
      },
      "source": [
        "#Get the large corpus \n",
        "\n",
        "lcReviews = ratings.sample(n=100000,random_state=42)\n",
        "lcReviews.reset_index(inplace=True, drop=True)\n",
        "lcReviews = lcReviews.rename(columns = {'overall':'ratings','reviewText':'reviews'})\n",
        "lcReviews.head()\n",
        "#lcReviews.tail()"
      ],
      "execution_count": null,
      "outputs": [
        {
          "output_type": "execute_result",
          "data": {
            "text/html": [
              "<div>\n",
              "<style scoped>\n",
              "    .dataframe tbody tr th:only-of-type {\n",
              "        vertical-align: middle;\n",
              "    }\n",
              "\n",
              "    .dataframe tbody tr th {\n",
              "        vertical-align: top;\n",
              "    }\n",
              "\n",
              "    .dataframe thead th {\n",
              "        text-align: right;\n",
              "    }\n",
              "</style>\n",
              "<table border=\"1\" class=\"dataframe\">\n",
              "  <thead>\n",
              "    <tr style=\"text-align: right;\">\n",
              "      <th></th>\n",
              "      <th>ratings</th>\n",
              "      <th>reviews</th>\n",
              "    </tr>\n",
              "  </thead>\n",
              "  <tbody>\n",
              "    <tr>\n",
              "      <th>0</th>\n",
              "      <td>5.0</td>\n",
              "      <td>Love this 3ds game. I made a zombie Togepi wit...</td>\n",
              "    </tr>\n",
              "    <tr>\n",
              "      <th>1</th>\n",
              "      <td>5.0</td>\n",
              "      <td>Fun game</td>\n",
              "    </tr>\n",
              "    <tr>\n",
              "      <th>2</th>\n",
              "      <td>5.0</td>\n",
              "      <td>This game is so fun.  I think it is the best S...</td>\n",
              "    </tr>\n",
              "    <tr>\n",
              "      <th>3</th>\n",
              "      <td>5.0</td>\n",
              "      <td>I hated the first game but absolutely love thi...</td>\n",
              "    </tr>\n",
              "    <tr>\n",
              "      <th>4</th>\n",
              "      <td>5.0</td>\n",
              "      <td>Love the Tales games. Glad I purchased this one.</td>\n",
              "    </tr>\n",
              "  </tbody>\n",
              "</table>\n",
              "</div>"
            ],
            "text/plain": [
              "   ratings                                            reviews\n",
              "0      5.0  Love this 3ds game. I made a zombie Togepi wit...\n",
              "1      5.0                                           Fun game\n",
              "2      5.0  This game is so fun.  I think it is the best S...\n",
              "3      5.0  I hated the first game but absolutely love thi...\n",
              "4      5.0   Love the Tales games. Glad I purchased this one."
            ]
          },
          "metadata": {
            "tags": []
          },
          "execution_count": 14
        }
      ]
    },
    {
      "cell_type": "code",
      "metadata": {
        "id": "bx9ev4liw1gE",
        "colab": {
          "base_uri": "https://localhost:8080/",
          "height": 204
        },
        "outputId": "93e8c2f4-98ee-4b24-db84-bb8554f1931b"
      },
      "source": [
        "lcReviews = lcReviews.sort_values('ratings')\n",
        "lcReviews.reset_index(drop=True,inplace=True)\n",
        "lcReviews.head()\n",
        "#lcReviews.shape"
      ],
      "execution_count": null,
      "outputs": [
        {
          "output_type": "execute_result",
          "data": {
            "text/html": [
              "<div>\n",
              "<style scoped>\n",
              "    .dataframe tbody tr th:only-of-type {\n",
              "        vertical-align: middle;\n",
              "    }\n",
              "\n",
              "    .dataframe tbody tr th {\n",
              "        vertical-align: top;\n",
              "    }\n",
              "\n",
              "    .dataframe thead th {\n",
              "        text-align: right;\n",
              "    }\n",
              "</style>\n",
              "<table border=\"1\" class=\"dataframe\">\n",
              "  <thead>\n",
              "    <tr style=\"text-align: right;\">\n",
              "      <th></th>\n",
              "      <th>ratings</th>\n",
              "      <th>reviews</th>\n",
              "    </tr>\n",
              "  </thead>\n",
              "  <tbody>\n",
              "    <tr>\n",
              "      <th>0</th>\n",
              "      <td>1.0</td>\n",
              "      <td>To say the idea of making a video game based o...</td>\n",
              "    </tr>\n",
              "    <tr>\n",
              "      <th>1</th>\n",
              "      <td>1.0</td>\n",
              "      <td>This is was a waste, even at a discounted pric...</td>\n",
              "    </tr>\n",
              "    <tr>\n",
              "      <th>2</th>\n",
              "      <td>1.0</td>\n",
              "      <td>After two weeks the cords stopped charging. Bu...</td>\n",
              "    </tr>\n",
              "    <tr>\n",
              "      <th>3</th>\n",
              "      <td>1.0</td>\n",
              "      <td>This is my first Lego game and it only gives t...</td>\n",
              "    </tr>\n",
              "    <tr>\n",
              "      <th>4</th>\n",
              "      <td>1.0</td>\n",
              "      <td>First thing you should know is that this revie...</td>\n",
              "    </tr>\n",
              "  </tbody>\n",
              "</table>\n",
              "</div>"
            ],
            "text/plain": [
              "   ratings                                            reviews\n",
              "0      1.0  To say the idea of making a video game based o...\n",
              "1      1.0  This is was a waste, even at a discounted pric...\n",
              "2      1.0  After two weeks the cords stopped charging. Bu...\n",
              "3      1.0  This is my first Lego game and it only gives t...\n",
              "4      1.0  First thing you should know is that this revie..."
            ]
          },
          "metadata": {
            "tags": []
          },
          "execution_count": 15
        }
      ]
    },
    {
      "cell_type": "code",
      "metadata": {
        "id": "hPurJRg6xRZC"
      },
      "source": [
        "scReviews.to_csv('small_corpus.csv')\n",
        "lcReviews.to_csv('large_corpus.csv')\n",
        "\n",
        "#!cp 'small_corpus.csv' \"/content/drive/My Drive/NLP Python/Data\"\n",
        "#!cp 'large_corpus.csv' \"/content/drive/My Drive/NLP Python/Data\""
      ],
      "execution_count": null,
      "outputs": []
    },
    {
      "cell_type": "markdown",
      "metadata": {
        "id": "c7clg-dPX5ir"
      },
      "source": [
        "`pandas.describe()`                     \n",
        "      by default this method will generate statistics for all numeric columns within a table"
      ]
    }
  ]
}